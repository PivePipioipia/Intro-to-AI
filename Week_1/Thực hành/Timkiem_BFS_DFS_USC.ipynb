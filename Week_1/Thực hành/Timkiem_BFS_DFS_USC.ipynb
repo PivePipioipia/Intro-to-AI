{
 "cells": [
  {
   "cell_type": "markdown",
   "id": "3a6df4c1",
   "metadata": {},
   "source": [
    "# Đọc dữ liệu "
   ]
  },
  {
   "cell_type": "code",
   "execution_count": 3,
   "id": "f5e6789c",
   "metadata": {},
   "outputs": [],
   "source": [
    "from collections import defaultdict\n",
    "from queue import Queue, PriorityQueue\n"
   ]
  },
  {
   "cell_type": "code",
   "execution_count": 4,
   "id": "e7289033",
   "metadata": {},
   "outputs": [],
   "source": [
    "# đọc dữ liệu từ file txt\n",
    "def read_txt(file):\n",
    "    size = int(file.readline())\n",
    "    start, goal = [int(num) for num in file.readline().split(' ')]\n",
    "    matrix = [[int(num) for num in line.split(' ')] for line in file]\n",
    "    return size, start, goal, matrix\n",
    "\n",
    "# chuyển ma trận kề thành danh sách kề \n",
    "def convert_graph(a):\n",
    "    adjList = defaultdict(list)\n",
    "    for i in range(len(a)):\n",
    "        for j in range(len(a[i])):\n",
    "            if a[i][j] == 1:\n",
    "                adjList[i].append(j)\n",
    "    return adjList\n",
    "\n",
    "def convert_graph_weight(a):\n",
    "    adjList = defaultdict(list)\n",
    "    for i in range (len(a)):\n",
    "        for j in range(len(a[i])):\n",
    "            if a[i][j] != 0:\n",
    "                adjList[i].append((j, a[i][j]))\n",
    "    return adjList"
   ]
  },
  {
   "cell_type": "markdown",
   "id": "eba71ed7",
   "metadata": {},
   "source": [
    "# BFS"
   ]
  },
  {
   "cell_type": "code",
   "execution_count": 5,
   "id": "fa89f90a",
   "metadata": {},
   "outputs": [],
   "source": [
    "def BFS(graph, start, end):\n",
    "    visited = []\n",
    "    frontier = Queue()\n",
    "\n",
    "    frontier.put(start)\n",
    "    visited.append(start)\n",
    "\n",
    "    parent = dict()\n",
    "    parent[start] = None\n",
    "\n",
    "    path_found= False\n",
    "\n",
    "    while True:\n",
    "        if frontier.empty():\n",
    "            raise Exception(\"No way Exception\")\n",
    "        current_node = frontier.get()\n",
    "        visited.append(current_node)\n",
    "\n",
    "        if current_node == end:\n",
    "            path_found = True\n",
    "            break\n",
    "\n",
    "        for node in graph[current_node]:\n",
    "            if node not in visited:\n",
    "                frontier.put(node)\n",
    "                parent[node] = current_node\n",
    "                visited.append(node)\n",
    "\n",
    "    path = []\n",
    "    if path_found:\n",
    "        path.append(end)\n",
    "        while parent[end] is not None:\n",
    "            path.append(parent[end])\n",
    "            end = parent[end]\n",
    "        path.reverse()\n",
    "    return path"
   ]
  },
  {
   "cell_type": "code",
   "execution_count": 6,
   "id": "967c81ce",
   "metadata": {},
   "outputs": [
    {
     "name": "stdout",
     "output_type": "stream",
     "text": [
      "Đường đi BFS demo: [1, 2, 4, 7]\n"
     ]
    }
   ],
   "source": [
    "# thử với ví dụ trong bài \n",
    "# Đọc dữ liệu demo\n",
    "with open(\"InputDemo.txt\", \"r\") as f:\n",
    "    size, start, goal, matrix = read_txt(f)\n",
    "\n",
    "graph = convert_graph(matrix)\n",
    "path = BFS(graph, start-1, goal-1)  \n",
    "\n",
    "print(\"Đường đi BFS demo:\", [p+1 for p in path])\n",
    "\n",
    "\n"
   ]
  },
  {
   "cell_type": "markdown",
   "id": "faf64666",
   "metadata": {},
   "source": [
    "# Lỗi BFS và sửa lỗi \n",
    "- Dòng visited.append(current_node) đầu tiên trong While là thừa vì nó \n",
    "khiến node được thêm 2 lần, visited.append(current_node) chỉ nên xảy \n",
    "ra khi đưa node vào frontier nghĩa là đã xem xét rồi. Ở đây nó khiến \n",
    "node được thêm 2 lần, không ảnh hưởng đến thuật toán nhưng không cần thiết.\n",
    "    -> Xóa dòng visited.append(current_node) đầu tiên \n",
    "- Cải tiến: \n",
    "    if frontier.empty():\n",
    "    raise Exception(\"No way Exception\")\n",
    "code trên dừng chương trình bằng lỗi, nếu không có đường đi nên trả về\n",
    "rỗng hoặc thông báo \"No way\" \n",
    "    -> sửa thành \n",
    "    if frontier.empty():\n",
    "    return []  # không có đường đi\n",
    "\n",
    "\n"
   ]
  },
  {
   "cell_type": "code",
   "execution_count": 7,
   "id": "55531a16",
   "metadata": {},
   "outputs": [],
   "source": [
    "# BFS phiên bản đã sửa \n",
    "from queue import Queue\n",
    "\n",
    "def BFS1(graph, start, end):\n",
    "    visited = set()\n",
    "    frontier = Queue()\n",
    "\n",
    "    frontier.put(start)\n",
    "    visited.add(start)\n",
    "\n",
    "    parent = dict()\n",
    "    parent[start] = None\n",
    "\n",
    "    path_found = False\n",
    "\n",
    "    while not frontier.empty():\n",
    "        current_node = frontier.get()\n",
    "\n",
    "        if current_node == end:\n",
    "            path_found = True\n",
    "            break\n",
    "\n",
    "        for node in graph[current_node]:\n",
    "            if node not in visited:\n",
    "                frontier.put(node)\n",
    "                parent[node] = current_node\n",
    "                visited.add(node)\n",
    "\n",
    "    path = []\n",
    "    if path_found:\n",
    "        path.append(end)\n",
    "        while parent[end] is not None:\n",
    "            path.append(parent[end])\n",
    "            end = parent[end]\n",
    "        path.reverse()\n",
    "    return path\n"
   ]
  },
  {
   "cell_type": "code",
   "execution_count": 8,
   "id": "1d71bea1",
   "metadata": {},
   "outputs": [
    {
     "name": "stdout",
     "output_type": "stream",
     "text": [
      "Đường đi BFS demo: [1, 2, 4, 7]\n"
     ]
    }
   ],
   "source": [
    "# thử với ví dụ trong bài \n",
    "# Đọc dữ liệu demo\n",
    "with open(\"InputDemo.txt\", \"r\") as f:\n",
    "    size, start, goal, matrix = read_txt(f)\n",
    "\n",
    "graph = convert_graph(matrix)\n",
    "path = BFS1(graph, start-1, goal-1)  \n",
    "\n",
    "print(\"Đường đi BFS demo:\", [p+1 for p in path])\n",
    "\n",
    "\n"
   ]
  },
  {
   "cell_type": "markdown",
   "id": "2a7e19c3",
   "metadata": {},
   "source": [
    "# DFS"
   ]
  },
  {
   "cell_type": "code",
   "execution_count": 22,
   "id": "ebf6b1de",
   "metadata": {},
   "outputs": [],
   "source": [
    "def DFS(graph, start, end):\n",
    "    visited = []\n",
    "    frontier = []\n",
    "\n",
    "    #thêm node start vào frontier và visited\n",
    "    frontier.append(start)\n",
    "    visited.append(start)\n",
    "\n",
    "    #start khong co node cha\n",
    "    parent = dict()\n",
    "    parent[start] = None\n",
    "\n",
    "    path_found = False\n",
    "\n",
    "    while True:\n",
    "        if frontier == []:\n",
    "            raise Exception(\"No way Exception\")\n",
    "        current_node = frontier.pop()\n",
    "        visited.append(current_node)\n",
    "\n",
    "        # Kiểm tra current_node có là end hay không\n",
    "        if current_node == end:\n",
    "            path_found = True\n",
    "            break\n",
    "        for node in graph[current_node]:\n",
    "            if node not in visited:\n",
    "                frontier.append(node)\n",
    "                parent[node] = current_node\n",
    "                visited.append(node)\n",
    "\n",
    "    path = []\n",
    "    if path_found:\n",
    "        path.append(end)\n",
    "        while parent[end] is not None:\n",
    "            path.append(parent[end])\n",
    "            end = parent[end]\n",
    "        path.reverse()\n",
    "    return path"
   ]
  },
  {
   "cell_type": "code",
   "execution_count": 13,
   "id": "c63abc35",
   "metadata": {},
   "outputs": [
    {
     "name": "stdout",
     "output_type": "stream",
     "text": [
      "Đường đi DFS demo: [1, 3, 4, 7]\n"
     ]
    }
   ],
   "source": [
    "# thử với ví dụ trong bài \n",
    "# Đọc dữ liệu demo\n",
    "with open(\"InputDemo.txt\", \"r\") as f:\n",
    "    size, start, goal, matrix = read_txt(f)\n",
    "\n",
    "graph = convert_graph(matrix)\n",
    "path = DFS(graph, start-1, goal-1)  \n",
    "\n",
    "print(\"Đường đi DFS demo:\", [p+1 for p in path])\n",
    "\n",
    "\n"
   ]
  },
  {
   "cell_type": "markdown",
   "id": "8061aa3b",
   "metadata": {},
   "source": [
    "# Sửa lỗi DFS\n",
    "- visited.append(current_node) sau khi pop và visited.append(node) ngay\n",
    "khi push làm cho visited bị trùng giá trị \n",
    "    -> Có thể dùng set cho visited để kiểm tra nhanh và tránh trùng\n",
    "\n",
    "-   while True:\n",
    "        if frontier == []:\n",
    "            raise Exception(\"No way Exception\")\n",
    "    Khi không có đường đi thì Exception \n",
    "    -> Nên trả về [] và in ra thông báo \"No way\""
   ]
  },
  {
   "cell_type": "code",
   "execution_count": null,
   "id": "b60affa0",
   "metadata": {},
   "outputs": [],
   "source": [
    "# DFS phiên bản đã sửa\n",
    "def DFS_new(graph, start, end):\n",
    "    visited = []\n",
    "    frontier = []\n",
    "\n",
    "    # thêm node start vào frontier và visited\n",
    "    frontier.append(start)\n",
    "    visited.append(start)\n",
    "\n",
    "    # start không có node cha\n",
    "    parent = dict()\n",
    "    parent[start] = None\n",
    "\n",
    "    path_found = False\n",
    "\n",
    "    while True:\n",
    "        if frontier == []:\n",
    "            return []  # không có đường đi\n",
    "        current_node = frontier.pop()  \n",
    "        # Kiểm tra current_node có là end hay không\n",
    "        if current_node == end:\n",
    "            path_found = True\n",
    "            break\n",
    "\n",
    "        for node in graph[current_node]:\n",
    "            if node not in visited:\n",
    "                frontier.append(node)\n",
    "                parent[node] = current_node\n",
    "                visited.append(node)\n",
    "\n",
    "    # Xây dựng đường đi\n",
    "    path = []\n",
    "    if path_found:\n",
    "        path.append(end)\n",
    "        while parent[end] is not None:\n",
    "            path.append(parent[end])\n",
    "            end = parent[end]\n",
    "        path.reverse()\n",
    "    return path\n"
   ]
  },
  {
   "cell_type": "code",
   "execution_count": 19,
   "id": "3dd3ac6c",
   "metadata": {},
   "outputs": [
    {
     "name": "stdout",
     "output_type": "stream",
     "text": [
      "Đường đi DFS demo: [1, 3, 4, 7]\n"
     ]
    }
   ],
   "source": [
    "# thử với ví dụ trong bài \n",
    "# Đọc dữ liệu demo\n",
    "with open(\"InputDemo.txt\", \"r\") as f:\n",
    "    size, start, goal, matrix = read_txt(f)\n",
    "\n",
    "graph = convert_graph(matrix)\n",
    "path = DFS1(graph, start-1, goal-1)  \n",
    "\n",
    "print(\"Đường đi DFS demo:\", [p+1 for p in path])\n",
    "\n",
    "\n"
   ]
  },
  {
   "cell_type": "markdown",
   "id": "b9aa8fc4",
   "metadata": {},
   "source": [
    "# USC"
   ]
  },
  {
   "cell_type": "code",
   "execution_count": 23,
   "id": "72cd9a42",
   "metadata": {},
   "outputs": [],
   "source": [
    "def UCS(graph, start, end):\n",
    "    visited = []\n",
    "    frontier = PriorityQueue()\n",
    "    #them node start vao frontier va visited\n",
    "    frontier.put((0, start))\n",
    "    visited.append(start)\n",
    "    #start khong co node cha\n",
    "    parent = dict()\n",
    "    parent[start] = None\n",
    "    path_found = False\n",
    "    while True:\n",
    "        if frontier.empty():\n",
    "            raise Exception(\"No way Exception\")\n",
    "        current_w, current_node = frontier.get()\n",
    "        visited.append(current_node)\n",
    "\n",
    "        #kiem tra current_node co la end hay khong\n",
    "        if current_node == end:\n",
    "            path_found = True\n",
    "            break\n",
    "            \n",
    "        for nodei in graph[current_node]:\n",
    "            node, weight = nodei\n",
    "            if node not in visited:\n",
    "                frontier.put((current_w + weight, node))\n",
    "                parent[node] = current_node\n",
    "                visited.append(node)\n",
    "\n",
    "    path = []\n",
    "    if path_found:\n",
    "        path.append(end)\n",
    "        while parent[end] is not None:\n",
    "            path.append(parent[end])\n",
    "            end = parent[end]\n",
    "        path.reverse()\n",
    "    return current_w, path\n"
   ]
  },
  {
   "cell_type": "markdown",
   "id": "e3f43798",
   "metadata": {},
   "source": [
    "# sai và sửa lỗi USC\n",
    "- raise Exception(\"No way Exception\"): Khi không có đường đi, chương \n",
    "trình dừng đột ngột \n",
    "  -> nên dùng return thay thế \n",
    "- current_w, current_node = frontier.get()\n",
    "  visited.append(current_node)\n",
    "  dòng visited.append(current_node) ngay sau get(): node đã được thêm 2 lần vào visited khi put() và get(), visited chứa phần tử trùng, làm kiểm\n",
    "  tra if node not in visited chậm\n",
    "  -> loại bỏ append khi put, chỉ append sau khi pop (get)\n",
    "- visited.append(node) trong vòng for: đẩy node vào hàng đợi và đánh dấu\n",
    "visited quá sớm, nên đánh dấu sau khi node được lấy ra (get) dẫn đến có \n",
    "thể bỏ lỡ đường đi ngắn hơn đến node (sẽ sai với đồ thị có nhiều cạnh nối cùng node)\n",
    "  -> chỉ đánh đấu visited sau khi get() thành công\n",
    "- Không kiểm tra trùng node trong hàng đợi (frontier): nếu 1 node đã vào queue rồi mà có đường rẻ hơn xuất hiện thì phải thay thế hoặc bỏ bản cũ dẫn đến có thể duyệt đường đi có chi phí lớn hơn.\n",
    "  -> Khi put kiểm tra nếu node chưa có hoặc có chi phí nhỏ hơn thì mới cập nhật\n",
    "- Không xử lý trường hợp node bị visit lại với chi phí thấp hơn: nên cập nhật lại chi phí khi có đường đi rẻ hơn đến node đã gặp dẫn đến kết quả có thể không tối ưu với đồ thị nhiều cạnh\n",
    "  -> lưu thêm cost[node] để ghi nhận chi phí nhỏ nhất đến mỗi node\n",
    "- Không dùng set() cho visited: danh sách visited dấn đến if node not in visited O(n) dẫn đến chậm khi đồ thị lớn\n",
    "  -> dùng set() thay cho list"
   ]
  },
  {
   "cell_type": "code",
   "execution_count": 20,
   "id": "a5729e6d",
   "metadata": {},
   "outputs": [],
   "source": [
    "# USC phiên bản đã sửa \n",
    "from queue import PriorityQueue\n",
    "\n",
    "def USC(graph, start, end):\n",
    "    visited = set()\n",
    "    frontier = PriorityQueue()\n",
    "    frontier.put((0, start))\n",
    "\n",
    "    parent = {start: None}\n",
    "    cost = {start:0}\n",
    "\n",
    "    while not frontier.empty():\n",
    "        current_w, current_node = frontier.get()\n",
    "\n",
    "        if current_node in visited: \n",
    "            continue\n",
    "        visited.add(current_node)\n",
    "\n",
    "        if current_node == end:\n",
    "            break\n",
    "\n",
    "        for node, weight in graph[current_node]:\n",
    "            new_cost = current_w + weight\n",
    "\n",
    "            if node not in cost or new_cost < cost[node]:\n",
    "                cost[node] = new_cost\n",
    "                frontier.put(new_cost, node)\n",
    "                parent[node] = current_node\n",
    "\n",
    "    if end not in parent:\n",
    "        return float(\"inf\"), []\n",
    "\n",
    "    path = []\n",
    "    node = end\n",
    "    while node is not None:\n",
    "        path.append(node)\n",
    "        node = parent[node]\n",
    "    path. reverse()\n",
    "    return cost[end], path\n"
   ]
  },
  {
   "cell_type": "code",
   "execution_count": null,
   "id": "b6d1cbae",
   "metadata": {},
   "outputs": [
    {
     "name": "stdout",
     "output_type": "stream",
     "text": [
      "Kết quả sử dụng thuật toán BFS:\n",
      "[0, 2, 7, 8, 10, 14, 15, 16, 17]\n",
      "--------------------------------------------------\n",
      "Kết quả sử dụng thuật toán DFS:\n",
      "[0, 3, 4, 13, 10, 14, 15, 16, 17]\n",
      "--------------------------------------------------\n",
      "Kết quả sử dụng thuật toán UCS:\n",
      "[0, 2, 7, 8, 10, 14, 15, 16, 17]\n",
      "Tổng chi phí: 6910\n"
     ]
    }
   ],
   "source": [
    "\n",
    "\n",
    "# Đọc dữ liệu từ các file Input.txt và InputUCS.txt\n",
    "with open(\"Input.txt\", \"r\") as f1, open(\"InputUCS.txt\", \"r\") as f2:\n",
    "    size_1, start_1, goal_1, matrix_1 = read_txt(f1)\n",
    "    size_2, start_2, goal_2, matrix_2 = read_txt(f2)\n",
    "\n",
    "# Chuyển ma trận kề sang danh sách kề phù hợp\n",
    "graph_1 = convert_graph(matrix_1)          # cho BFS và DFS\n",
    "graph_2 = convert_graph_weight(matrix_2)   # cho UCS\n",
    "\n",
    "# -------------------------------------------\n",
    "# Thuật toán BFS\n",
    "# -------------------------------------------\n",
    "result_bfs = BFS(graph_1, start_1, goal_1)\n",
    "print(\"Kết quả sử dụng thuật toán BFS:\")\n",
    "print(result_bfs)\n",
    "print(\"-\" * 50)\n",
    "\n",
    "# -------------------------------------------\n",
    "# Thuật toán DFS\n",
    "# -------------------------------------------\n",
    "result_dfs = DFS(graph_1, start_1, goal_1)\n",
    "print(\"Kết quả sử dụng thuật toán DFS:\")\n",
    "print(result_dfs)\n",
    "print(\"-\" * 50)\n",
    "\n",
    "# -------------------------------------------\n",
    "# Thuật toán UCS\n",
    "# -------------------------------------------\n",
    "cost, result_ucs = UCS(graph_2, start_2, goal_2)\n",
    "print(\"Kết quả sử dụng thuật toán UCS:\")\n",
    "print(result_ucs)\n",
    "print(\"Tổng chi phí:\", cost)\n"
   ]
  }
 ],
 "metadata": {
  "kernelspec": {
   "display_name": "Python 3",
   "language": "python",
   "name": "python3"
  },
  "language_info": {
   "codemirror_mode": {
    "name": "ipython",
    "version": 3
   },
   "file_extension": ".py",
   "mimetype": "text/x-python",
   "name": "python",
   "nbconvert_exporter": "python",
   "pygments_lexer": "ipython3",
   "version": "3.12.8"
  }
 },
 "nbformat": 4,
 "nbformat_minor": 5
}
